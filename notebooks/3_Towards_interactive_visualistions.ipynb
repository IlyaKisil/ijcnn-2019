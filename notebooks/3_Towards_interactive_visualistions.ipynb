{
 "cells": [
  {
   "cell_type": "markdown",
   "metadata": {},
   "source": [
    "# Initial steps towards interactive visualisation\n",
    "[Return to Table of Contents](./0_Table_of_contents.ipynb)"
   ]
  },
  {
   "cell_type": "code",
   "execution_count": null,
   "metadata": {},
   "outputs": [],
   "source": [
    "from hottbox.contrib.visualisation import ComponentPlotCPD, ComponentPlotTKD, gen_test_data, gen_test_tensor_cpd"
   ]
  },
  {
   "cell_type": "code",
   "execution_count": null,
   "metadata": {},
   "outputs": [],
   "source": [
    "_ = gen_test_data(plot=True)"
   ]
  },
  {
   "cell_type": "code",
   "execution_count": null,
   "metadata": {},
   "outputs": [],
   "source": [
    "tensor_cpd = gen_test_tensor_cpd()\n",
    "p = ComponentPlotCPD(tensor_cpd)"
   ]
  },
  {
   "cell_type": "markdown",
   "metadata": {},
   "source": [
    "# Simple customisation for all modes"
   ]
  },
  {
   "cell_type": "code",
   "execution_count": null,
   "metadata": {},
   "outputs": [],
   "source": [
    "def my_line_plot(ax, data):\n",
    "    \"\"\"\n",
    "    ax : Axes object which is used to illustrate `data`  \n",
    "    data : selected factor vector to be plotted\n",
    "    \"\"\"    \n",
    "    ax.plot(data, 'r+')\n",
    "    \n",
    "custom_plots = {\"my line\": my_line_plot}  # key will be displayed in the dropdown menu\n",
    "p.extend_available_plots(custom_plots)  # will be available for all modes"
   ]
  },
  {
   "cell_type": "markdown",
   "metadata": {},
   "source": [
    "# Customisation with the use of the external libraries and for specific modes only"
   ]
  },
  {
   "cell_type": "code",
   "execution_count": null,
   "metadata": {},
   "outputs": [],
   "source": [
    "import mne  # `hottbox` does not depend on this package\n",
    "\n",
    "def my_topo_plot(ax, data):\n",
    "    \"\"\"\n",
    "    ax : Axes object which is used to illustrate `data`  \n",
    "    data : selected factor vector to be plotted\n",
    "    \"\"\"\n",
    "    ch_names = ['Cz', 'Oz', 'T7', 'FT9', 'T8', 'FT10', 'M1', 'M2']\n",
    "    info = mne.create_info(ch_names=ch_names, sfreq=1200, ch_types='eeg', verbose=False)\n",
    "    montage = mne.channels.read_montage(\"standard_1020\")\n",
    "    temp = data.reshape(-1, 1)\n",
    "    temp = temp [:8,:]\n",
    "    \n",
    "    \n",
    "    raw = mne.io.RawArray(temp, info, verbose=False)\n",
    "    raw.set_montage(montage)\n",
    "    raw.set_eeg_reference(\"average\", projection=False)\n",
    "    temp = data[:8]\n",
    "        \n",
    "    im = mne.viz.plot_topomap(temp,\n",
    "                              raw.info,\n",
    "                              names=ch_names,\n",
    "                              axes = ax,\n",
    "                              show_names = False,\n",
    "                              cmap = 'RdBu_r',\n",
    "                              sensors = 'k.',\n",
    "                              outlines = 'head',\n",
    "                              show=False\n",
    "                        )\n",
    "    \n",
    "custom_plots = {\"my topo\": my_topo_plot}  # key will be displayed in the dropdown menu\n",
    "p.extend_available_plots(custom_plots, modes=[1]) # will be available only for the mode-1\n"
   ]
  }
 ],
 "metadata": {
  "kernelspec": {
   "display_name": "ijcnn-2019",
   "language": "python",
   "name": "ijcnn-2019"
  },
  "language_info": {
   "codemirror_mode": {
    "name": "ipython",
    "version": 3
   },
   "file_extension": ".py",
   "mimetype": "text/x-python",
   "name": "python",
   "nbconvert_exporter": "python",
   "pygments_lexer": "ipython3",
   "version": "3.6.5"
  },
  "toc-autonumbering": false,
  "toc-showcode": false,
  "toc-showmarkdowntxt": false,
  "toc-showtags": false
 },
 "nbformat": 4,
 "nbformat_minor": 2
}
