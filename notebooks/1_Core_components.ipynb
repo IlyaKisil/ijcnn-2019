{
 "cells": [
  {
   "cell_type": "markdown",
   "metadata": {},
   "source": [
    "# Introduction into HOTTBOX: core components\n",
    "[Return to Table of Contents](./0_Table_of_contents.ipynb)"
   ]
  },
  {
   "cell_type": "code",
   "execution_count": 1,
   "metadata": {},
   "outputs": [],
   "source": [
    "%load_ext autoreload\n",
    "%autoreload 2\n",
    "%matplotlib inline"
   ]
  },
  {
   "cell_type": "code",
   "execution_count": 2,
   "metadata": {},
   "outputs": [
    {
     "name": "stdout",
     "output_type": "stream",
     "text": [
      "HOTTBOX version: 0.3.1\n"
     ]
    }
   ],
   "source": [
    "# Basic imports\n",
    "import numpy as np\n",
    "\n",
    "#\n",
    "from hottbox import __version__ as hottbox_version\n",
    "print(\"HOTTBOX version: {}\".format(hottbox_version))"
   ]
  },
  {
   "cell_type": "markdown",
   "metadata": {
    "toc-hr-collapsed": false
   },
   "source": [
    "<img src=\"./imgs/different-tensors.png\" alt=\"Drawing\" style=\"width: 600px;\"/>\n",
    "\n",
    "A tensor is a multi-dimenaional array of data where each dimension is conventionally referred to as the **mode** and is associated with a particular characterisic/property of the data at hand. Tensor **order** is defined by the number of its modes which is equivivalent to the number of indices required to identify a particular entry of a multi-dimensional array.\n",
    "\n",
    "Creation of a tensor starts with a formation of a multidimensional array of data. For ease of visualisation and compact notation, let's consider a third order tensor $\\mathbf{\\underline{X}} \\in \\mathbb{R}^{I \\times J \\times K}$. Thus, an element of such a tensor, $\\mathbf{\\underline{X}} \\in \\mathbb{R}^{I \\times J \\times K}$, can be written in a general form as:\n",
    "\n",
    "$$ x_{ijk} = \\mathbf{\\underline{X}}[i, j, k]$$\n",
    "\n",
    "**Note:** In order to be consistent with Python indexing, count of modes and elements within starts from zeros."
   ]
  },
  {
   "cell_type": "code",
   "execution_count": 3,
   "metadata": {},
   "outputs": [
    {
     "name": "stdout",
     "output_type": "stream",
     "text": [
      "[[[ 0  1  2  3]\n",
      "  [ 4  5  6  7]\n",
      "  [ 8  9 10 11]]\n",
      "\n",
      " [[12 13 14 15]\n",
      "  [16 17 18 19]\n",
      "  [20 21 22 23]]]\n",
      "\n",
      "This tensor is of order 3 and consists of 24 elements.\n",
      "Sizes and names of its modes are (2, 3, 4) and ['mode-0', 'mode-1', 'mode-2'] respectively.\n"
     ]
    }
   ],
   "source": [
    "from hottbox.core import Tensor\n",
    "\n",
    "# Create 3-d array of data\n",
    "array_3d = np.arange(24).reshape((2, 3, 4))\n",
    "\n",
    "# Create tensor\n",
    "tensor = Tensor(array_3d)\n",
    "\n",
    "# Result preview\n",
    "print(tensor.data)\n",
    "print()\n",
    "print(tensor)"
   ]
  },
  {
   "cell_type": "markdown",
   "metadata": {},
   "source": [
    "Now, you can use top level API for the conventional definitions of the tensor properties and operations (e.g. order, unfold, mode-n product etc)."
   ]
  },
  {
   "cell_type": "code",
   "execution_count": 4,
   "metadata": {},
   "outputs": [
    {
     "name": "stdout",
     "output_type": "stream",
     "text": [
      "This tensor is of order 3.\n",
      "The sizes of its modes are (2, 3, 4) respectively.\n",
      "It consists of 24 elemetns.\n",
      "Its Frobenious norm = 65.76\n"
     ]
    }
   ],
   "source": [
    "print('This tensor is of order {}.'.format(tensor.order))\n",
    "print('The sizes of its modes are {} respectively.'.format(tensor.shape))\n",
    "print('It consists of {} elemetns.'.format(tensor.size))\n",
    "print('Its Frobenious norm = {:.2f}'.format(tensor.frob_norm))"
   ]
  },
  {
   "cell_type": "markdown",
   "metadata": {},
   "source": [
    "Our future plans include extension of the API with some additional functionality for ease of integration with other libraries for EDA (see [this repository](https://github.com/hottbox/hottbox-tutorials))"
   ]
  },
  {
   "cell_type": "markdown",
   "metadata": {
    "toc-hr-collapsed": false
   },
   "source": [
    "# Transformations and representations\n",
    "\n",
    "N-dimensional arrays of data can be represented in various different forms. By applying numerical methods (algorithms for tensor decompositions) to the raw data we can obtain, for example, Kruskal or Tucker representation. At the same time, simple data rearrangement procedures (e.g. folding, unfolding) of the raw data also yields different representation.\n",
    "\n",
    "<img src=\"./imgs/different-forms-of-data.png\" alt=\"Drawing\" style=\"width: 500px;\"/>\n"
   ]
  },
  {
   "cell_type": "markdown",
   "metadata": {
    "toc-hr-collapsed": true
   },
   "source": [
    "## Unfolding and mode-n product\n",
    "\n",
    "Conventionally, unfolding is considered to be a process of element mapping from a tensor to a matrix. In other words, it arranges the mode-$n$ fibers of a tensor to be the matrix columns. Thus, the mode-$n$ unfolding is denoted as:\n",
    "\n",
    "$$\\mathbf{\\underline{A}} \\xrightarrow{n} \\mathbf{A}_{(n)}$$\n",
    "\n",
    "Thus, this operations requires to specify a mode along which a tensor will be unfolded. For a third order tensor, a visual representation of such operation is as following\n",
    "\n",
    "<img src=\"./imgs/unfolding.png\" alt=\"Drawing\" style=\"width: 600px;\"/>\n",
    "\n",
    "**Note:** unfolding a tensor, $\\mathbf{\\underline{X}} \\in \\mathbb{R}^{I \\times I \\times I}$, along different modes is not equivalent to permutation of data\n",
    "\n",
    "$$\\mathbf{X}_{(n)} \\neq \\mathbf{P}\\mathbf{X}_{(m)}$$"
   ]
  },
  {
   "cell_type": "code",
   "execution_count": 5,
   "metadata": {},
   "outputs": [
    {
     "name": "stdout",
     "output_type": "stream",
     "text": [
      "This tensor is of order 2 and consists of 24 elements.\n",
      "Sizes and names of its modes are (4, 6) and ['mode-2', 'mode-0_mode-1'] respectively.\n"
     ]
    },
    {
     "data": {
      "text/plain": [
       "array([[ 0,  4,  8, 12, 16, 20],\n",
       "       [ 1,  5,  9, 13, 17, 21],\n",
       "       [ 2,  6, 10, 14, 18, 22],\n",
       "       [ 3,  7, 11, 15, 19, 23]])"
      ]
     },
     "execution_count": 5,
     "metadata": {},
     "output_type": "execute_result"
    }
   ],
   "source": [
    "from hottbox.core import Tensor\n",
    "\n",
    "# Create 3-d array of data\n",
    "array_3d = np.arange(24).reshape((2, 3, 4))\n",
    "\n",
    "# Create tensor\n",
    "tensor = Tensor(array_3d)\n",
    "\n",
    "# Unfold tensor along first mode (mode-0)\n",
    "tensor.unfold(mode=2)\n",
    "\n",
    "# Result preview\n",
    "print(tensor)\n",
    "tensor.data"
   ]
  },
  {
   "cell_type": "markdown",
   "metadata": {
    "toc-hr-collapsed": false
   },
   "source": [
    "<img src=\"./imgs/mode_n_product.png\" alt=\"Drawing\" style=\"width: 600px;\"/>\n",
    "\n",
    "The mode-$n$ product is a multiplication of a tensor  by a matrix along the $n^{th}$ mode of a tensor. This essentially means that each mode-$n$ fiber should be multiplied by this matrix. Mathematically, this can be expressed as:\n",
    "\n",
    "$$\\mathbf{\\underline{X}} \\times_n \\mathbf{A} = \\mathbf{\\underline{Y}} \\quad \\Leftrightarrow  \\quad \\mathbf{Y}_{(n)} = \\mathbf{A} \\mathbf{X}_{(n)}  $$\n",
    "\n",
    "This is equivalent to projection of a tensor unfolded along a certain mode on to the space spanned by a matrix."
   ]
  },
  {
   "cell_type": "code",
   "execution_count": 6,
   "metadata": {},
   "outputs": [
    {
     "name": "stdout",
     "output_type": "stream",
     "text": [
      "\tResult of Mode-0 product:\n",
      "This tensor is of order 3 and consists of 60 elements.\n",
      "Sizes and names of its modes are (5, 3, 4) and ['mode-0', 'mode-1', 'mode-2'] respectively.\n",
      "\n",
      "\tResult of Mode-1 product:\n",
      "This tensor is of order 3 and consists of 40 elements.\n",
      "Sizes and names of its modes are (2, 5, 4) and ['mode-0', 'mode-1', 'mode-2'] respectively.\n",
      "\n",
      "\tResult of Mode-2 product:\n",
      "This tensor is of order 3 and consists of 30 elements.\n",
      "Sizes and names of its modes are (2, 3, 5) and ['mode-0', 'mode-1', 'mode-2'] respectively.\n",
      "\n"
     ]
    }
   ],
   "source": [
    "from hottbox.core import Tensor\n",
    "\n",
    "I, J, K = 2, 3, 4\n",
    "mode_n_new_size = 5\n",
    "\n",
    "# Create tensor\n",
    "array_3d = np.arange(I * J * K).reshape(I, J ,K)\n",
    "X = Tensor(array_3d)\n",
    "\n",
    "for mode_n, mode_n_size in enumerate(X.shape):    \n",
    "    # Create matrix\n",
    "    A = np.ones((mode_n_new_size, mode_n_size))\n",
    "\n",
    "    # Perform Mode-n product \n",
    "    Y = X.mode_n_product(A, mode=mode_n, inplace=False)\n",
    "\n",
    "    # Preview of resulting tensor\n",
    "    print(\"\\tResult of Mode-{} product:\\n{}\\n\".format(mode_n, Y))    \n"
   ]
  },
  {
   "cell_type": "markdown",
   "metadata": {},
   "source": [
    "### Properties of mode-n product\n",
    "\n",
    "1. For distinct modes in a series of multiplications, the order of the multiplication is irrelevent: \n",
    "\n",
    "    $$\\mathbf{\\underline{X}} \\times_n \\mathbf{A} \\times_m \\mathbf{B} = \\mathbf{\\underline{X}} \\times_m \\mathbf{B} \\times_n \\mathbf{A} \\quad (m \\neq n)$$\n",
    "\n",
    "1. However, this does not hold if the modes are the same :\n",
    "\n",
    "    $$\\mathbf{\\underline{X}} \\times_n \\mathbf{A} \\times_n \\mathbf{B} = \\mathbf{\\underline{X}} \\times_n (\\mathbf{B}\\mathbf{A})$$\n",
    "    \n",
    "1. Mode-n product of a tensor with the same matrix across different modes does not "
   ]
  },
  {
   "cell_type": "markdown",
   "metadata": {
    "toc-hr-collapsed": false
   },
   "source": [
    "# Tensor decompositions and efficient representation of multidimensional data\n",
    "\n",
    "<img src=\"./imgs/efficient_representations.png\" alt=\"Drawing\" style=\"width: 600px;\"/>\n",
    "\n",
    "There are three main forms for efficient representation of multi-dimensional data. Each of them can be obtained either from the original tensor by applying associated tensor decomposition algorithms or constructed from scratch. For all representations and decomposition algorithms, we aim to provide consistent API as much as possible.\n",
    "\n",
    "Here we will cover only basics of [**HOTTBOX**](https://github.com/hottbox/hottbox) API, but for more information please visit [this page](https://github.com/hottbox/hottbox-tutorials)."
   ]
  },
  {
   "cell_type": "markdown",
   "metadata": {},
   "source": [
    "### Decomposing original tensor"
   ]
  },
  {
   "cell_type": "code",
   "execution_count": 7,
   "metadata": {},
   "outputs": [
    {
     "name": "stdout",
     "output_type": "stream",
     "text": [
      "==================================================\n",
      "Kruskal representation of a tensor with rank=(2,).\n",
      "Factor matrices represent properties: ['mode-0', 'mode-1', 'mode-2']\n",
      "With corresponding latent components described by (5, 6, 7) features respectively.\n",
      "\n",
      "==================================================\n",
      "Tucker representation of a tensor with multi-linear rank=(2, 3, 4).\n",
      "Factor matrices represent properties: ['mode-0', 'mode-1', 'mode-2']\n",
      "With corresponding latent components described by (5, 6, 7) features respectively.\n",
      "\n",
      "==================================================\n",
      "Tensor train representation of a tensor with tt-rank=(2, 3).\n",
      "Shape of this representation in the full format is (5, 6, 7).\n",
      "Physical modes of its cores represent properties: ['mode-0', 'mode-1', 'mode-2']\n",
      "\n"
     ]
    }
   ],
   "source": [
    "from hottbox.core import Tensor\n",
    "from hottbox.algorithms.decomposition import CPD, HOSVD, TTSVD\n",
    "\n",
    "# Define original tensor\n",
    "I, J, K = 5, 6, 7\n",
    "array_3d = np.random.randn(I, J, K)\n",
    "tensor = Tensor(array_3d)\n",
    "\n",
    "ranks = [\n",
    "    (2,),       # rank of Kruskal representation\n",
    "    (2, 3, 4),  # rank of Tucker representation\n",
    "    (2, 3)      # rank of Tensor Train representation\n",
    "]\n",
    "\n",
    "# Initialise tensor decomposition algorithms\n",
    "algorithms = [\n",
    "    CPD(), \n",
    "    HOSVD(), \n",
    "    TTSVD()\n",
    "]\n",
    "\n",
    "# Compute different representations of the same tensor\n",
    "tensor_representations = []\n",
    "for i, alg in enumerate(algorithms):\n",
    "    tensor_rep = alg.decompose(tensor, rank=ranks[i])\n",
    "    tensor_representations.append(tensor_rep)\n",
    "\n",
    "# Result preview\n",
    "for representation in tensor_representations:    \n",
    "    print(\"=\"*50)\n",
    "    print(representation)\n",
    "    print()"
   ]
  },
  {
   "cell_type": "markdown",
   "metadata": {
    "toc-hr-collapsed": false
   },
   "source": [
    "### Construction from scratch"
   ]
  },
  {
   "cell_type": "code",
   "execution_count": 8,
   "metadata": {},
   "outputs": [
    {
     "name": "stdout",
     "output_type": "stream",
     "text": [
      "==================================================\n",
      "Reconstruction of Kruskal representation:\n",
      "This tensor is of order 3 and consists of 210 elements.\n",
      "Sizes and names of its modes are (5, 6, 7) and ['mode-0', 'mode-1', 'mode-2'] respectively.\n",
      "\n",
      "==================================================\n",
      "Reconstruction of Tucker representation:\n",
      "This tensor is of order 3 and consists of 210 elements.\n",
      "Sizes and names of its modes are (5, 6, 7) and ['mode-0', 'mode-1', 'mode-2'] respectively.\n",
      "\n",
      "==================================================\n",
      "Reconstruction of Tensor Train representation:\n",
      "This tensor is of order 3 and consists of 210 elements.\n",
      "Sizes and names of its modes are (5, 6, 7) and ['mode-0', 'mode-1', 'mode-2'] respectively.\n",
      "\n"
     ]
    }
   ],
   "source": [
    "from hottbox.core import TensorCPD, TensorTKD, TensorTT\n",
    "\n",
    "I, J, K = 5, 6, 7  # define shape of the tensor in full form\n",
    "\n",
    "R = 2              # rank of Kruskal representation\n",
    "Q, R, P = 2, 3, 4  # rank of Tucker representation\n",
    "R_1, R_2 = 2, 3    # rank of Tensor Train representation\n",
    "\n",
    "# Construct Kruskal representation\n",
    "A = np.random.randn(I, R)\n",
    "B = np.random.randn(J, R)\n",
    "C = np.random.randn(K, R)\n",
    "lambda_values = np.random.randn(R)\n",
    "tensor_cpd = TensorCPD(fmat=[A, B, C], core_values=lambda_values)\n",
    "\n",
    "# Construct Tucker representation\n",
    "A = np.random.randn(I, Q)\n",
    "B = np.random.randn(J, R)\n",
    "C = np.random.randn(K, P)\n",
    "core_tensor_values = np.random.randn(Q, R, P)\n",
    "tensor_tkd = TensorTKD(fmat=[A, B, C], core_values=core_tensor_values)\n",
    "\n",
    "\n",
    "# Construct Tensor Train represenation\n",
    "core_1_values = np.random.randn(I, R_1)\n",
    "core_2_values = np.random.randn(R_1, J, R_2)\n",
    "core_3_values = np.random.randn(R_2, K)\n",
    "tensor_tt = TensorTT(core_values=[core_1_values, core_2_values, core_3_values])\n",
    "\n",
    "\n",
    "tensor_representations = {\n",
    "    \"Kruskal\" : tensor_cpd,\n",
    "    \"Tucker\" : tensor_tkd,\n",
    "    \"Tensor Train\" : tensor_tt\n",
    "}\n",
    "for name, representation in tensor_representations.items():\n",
    "    print(\"=\"*50)\n",
    "    print(\"Reconstruction of {} representation:\".format(name))\n",
    "    print(representation.reconstruct())\n",
    "    print()"
   ]
  }
 ],
 "metadata": {
  "kernelspec": {
   "display_name": "ijcnn-2019",
   "language": "python",
   "name": "ijcnn-2019"
  },
  "language_info": {
   "codemirror_mode": {
    "name": "ipython",
    "version": 3
   },
   "file_extension": ".py",
   "mimetype": "text/x-python",
   "name": "python",
   "nbconvert_exporter": "python",
   "pygments_lexer": "ipython3",
   "version": "3.6.5"
  },
  "toc-autonumbering": false,
  "toc-showcode": false,
  "toc-showmarkdowntxt": false,
  "toc-showtags": false
 },
 "nbformat": 4,
 "nbformat_minor": 2
}
