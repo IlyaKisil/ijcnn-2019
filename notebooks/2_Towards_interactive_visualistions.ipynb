{
 "cells": [
  {
   "cell_type": "markdown",
   "metadata": {},
   "source": [
    "# Initial steps towards interactive visualisation\n",
    "[Return to Table of Contents](./0_Table_of_contents.ipynb)"
   ]
  },
  {
   "cell_type": "code",
   "execution_count": 1,
   "metadata": {},
   "outputs": [],
   "source": [
    "%load_ext autoreload\n",
    "%autoreload 2"
   ]
  },
  {
   "cell_type": "code",
   "execution_count": 2,
   "metadata": {},
   "outputs": [],
   "source": [
    "import warnings\n",
    "warnings.simplefilter(action='ignore', category=FutureWarning)\n",
    "warnings.simplefilter(action='ignore', category=RuntimeWarning)"
   ]
  },
  {
   "cell_type": "markdown",
   "metadata": {},
   "source": [
    "Let' assume that we conducted some multichannel recording of brain activity and it is stored in `csv` format. We would normally use `pandas` to read content of the file before we start to analyse data"
   ]
  },
  {
   "cell_type": "code",
   "execution_count": 3,
   "metadata": {},
   "outputs": [
    {
     "data": {
      "text/html": [
       "<div>\n",
       "<style scoped>\n",
       "    .dataframe tbody tr th:only-of-type {\n",
       "        vertical-align: middle;\n",
       "    }\n",
       "\n",
       "    .dataframe tbody tr th {\n",
       "        vertical-align: top;\n",
       "    }\n",
       "\n",
       "    .dataframe thead th {\n",
       "        text-align: right;\n",
       "    }\n",
       "</style>\n",
       "<table border=\"1\" class=\"dataframe\">\n",
       "  <thead>\n",
       "    <tr style=\"text-align: right;\">\n",
       "      <th></th>\n",
       "      <th>Timestamp</th>\n",
       "      <th>Channel</th>\n",
       "      <th>FrequencyBand</th>\n",
       "      <th>Response</th>\n",
       "    </tr>\n",
       "  </thead>\n",
       "  <tbody>\n",
       "    <tr>\n",
       "      <th>0</th>\n",
       "      <td>0</td>\n",
       "      <td>0</td>\n",
       "      <td>0</td>\n",
       "      <td>0.0</td>\n",
       "    </tr>\n",
       "    <tr>\n",
       "      <th>1</th>\n",
       "      <td>0</td>\n",
       "      <td>0</td>\n",
       "      <td>1</td>\n",
       "      <td>0.0</td>\n",
       "    </tr>\n",
       "    <tr>\n",
       "      <th>2</th>\n",
       "      <td>0</td>\n",
       "      <td>0</td>\n",
       "      <td>2</td>\n",
       "      <td>0.0</td>\n",
       "    </tr>\n",
       "    <tr>\n",
       "      <th>3</th>\n",
       "      <td>0</td>\n",
       "      <td>0</td>\n",
       "      <td>3</td>\n",
       "      <td>0.0</td>\n",
       "    </tr>\n",
       "    <tr>\n",
       "      <th>4</th>\n",
       "      <td>0</td>\n",
       "      <td>0</td>\n",
       "      <td>4</td>\n",
       "      <td>0.0</td>\n",
       "    </tr>\n",
       "  </tbody>\n",
       "</table>\n",
       "</div>"
      ],
      "text/plain": [
       "   Timestamp  Channel  FrequencyBand  Response\n",
       "0          0        0              0       0.0\n",
       "1          0        0              1       0.0\n",
       "2          0        0              2       0.0\n",
       "3          0        0              3       0.0\n",
       "4          0        0              4       0.0"
      ]
     },
     "execution_count": 3,
     "metadata": {},
     "output_type": "execute_result"
    }
   ],
   "source": [
    "import pandas as pd\n",
    "df_data_raw = pd.read_csv(\"../data/EEG_recording_trial_1.csv\")\n",
    "df_data_raw.head()"
   ]
  },
  {
   "cell_type": "code",
   "execution_count": 4,
   "metadata": {},
   "outputs": [
    {
     "data": {
      "text/html": [
       "<div>\n",
       "<style scoped>\n",
       "    .dataframe tbody tr th:only-of-type {\n",
       "        vertical-align: middle;\n",
       "    }\n",
       "\n",
       "    .dataframe tbody tr th {\n",
       "        vertical-align: top;\n",
       "    }\n",
       "\n",
       "    .dataframe thead th {\n",
       "        text-align: right;\n",
       "    }\n",
       "</style>\n",
       "<table border=\"1\" class=\"dataframe\">\n",
       "  <thead>\n",
       "    <tr style=\"text-align: right;\">\n",
       "      <th></th>\n",
       "      <th>Timestamp</th>\n",
       "      <th>Channel</th>\n",
       "      <th>FrequencyBand</th>\n",
       "      <th>Response</th>\n",
       "    </tr>\n",
       "  </thead>\n",
       "  <tbody>\n",
       "    <tr>\n",
       "      <th>count</th>\n",
       "      <td>1000000.000000</td>\n",
       "      <td>1000000.000000</td>\n",
       "      <td>1000000.000000</td>\n",
       "      <td>1.000000e+06</td>\n",
       "    </tr>\n",
       "    <tr>\n",
       "      <th>mean</th>\n",
       "      <td>249.500000</td>\n",
       "      <td>4.500000</td>\n",
       "      <td>99.500000</td>\n",
       "      <td>-1.981748e-20</td>\n",
       "    </tr>\n",
       "    <tr>\n",
       "      <th>std</th>\n",
       "      <td>144.337351</td>\n",
       "      <td>2.872283</td>\n",
       "      <td>57.734334</td>\n",
       "      <td>4.169809e-01</td>\n",
       "    </tr>\n",
       "    <tr>\n",
       "      <th>min</th>\n",
       "      <td>0.000000</td>\n",
       "      <td>0.000000</td>\n",
       "      <td>0.000000</td>\n",
       "      <td>-2.760074e+00</td>\n",
       "    </tr>\n",
       "    <tr>\n",
       "      <th>25%</th>\n",
       "      <td>124.750000</td>\n",
       "      <td>2.000000</td>\n",
       "      <td>49.750000</td>\n",
       "      <td>-1.843469e-01</td>\n",
       "    </tr>\n",
       "    <tr>\n",
       "      <th>50%</th>\n",
       "      <td>249.500000</td>\n",
       "      <td>4.500000</td>\n",
       "      <td>99.500000</td>\n",
       "      <td>0.000000e+00</td>\n",
       "    </tr>\n",
       "    <tr>\n",
       "      <th>75%</th>\n",
       "      <td>374.250000</td>\n",
       "      <td>7.000000</td>\n",
       "      <td>149.250000</td>\n",
       "      <td>1.843469e-01</td>\n",
       "    </tr>\n",
       "    <tr>\n",
       "      <th>max</th>\n",
       "      <td>499.000000</td>\n",
       "      <td>9.000000</td>\n",
       "      <td>199.000000</td>\n",
       "      <td>2.760074e+00</td>\n",
       "    </tr>\n",
       "  </tbody>\n",
       "</table>\n",
       "</div>"
      ],
      "text/plain": [
       "            Timestamp         Channel   FrequencyBand      Response\n",
       "count  1000000.000000  1000000.000000  1000000.000000  1.000000e+06\n",
       "mean       249.500000        4.500000       99.500000 -1.981748e-20\n",
       "std        144.337351        2.872283       57.734334  4.169809e-01\n",
       "min          0.000000        0.000000        0.000000 -2.760074e+00\n",
       "25%        124.750000        2.000000       49.750000 -1.843469e-01\n",
       "50%        249.500000        4.500000       99.500000  0.000000e+00\n",
       "75%        374.250000        7.000000      149.250000  1.843469e-01\n",
       "max        499.000000        9.000000      199.000000  2.760074e+00"
      ]
     },
     "execution_count": 4,
     "metadata": {},
     "output_type": "execute_result"
    }
   ],
   "source": [
    "df_data_raw.describe()"
   ]
  },
  {
   "cell_type": "code",
   "execution_count": 5,
   "metadata": {},
   "outputs": [],
   "source": [
    "df_data_raw[\"Response\"].plot();"
   ]
  },
  {
   "cell_type": "markdown",
   "metadata": {},
   "source": [
    "It looks like there is some structure in a data. Let's plot different combinations of channels and frequency bands. But wait, we have 10 * 200 = 2000 possible combinations. Well, let's select only 6 and hope that we will get lucky and will get some insights."
   ]
  },
  {
   "cell_type": "code",
   "execution_count": 6,
   "metadata": {},
   "outputs": [
    {
     "data": {
      "image/png": "[encoded data removed]",
      "text/plain": [
       "<Figure size 1080x576 with 6 Axes>"
      ]
     },
     "metadata": {
      "needs_background": "light"
     },
     "output_type": "display_data"
    }
   ],
   "source": [
    "import matplotlib.pyplot as plt\n",
    "\n",
    "fig = plt.figure(figsize=(15, 8))\n",
    "for i in range(6):\n",
    "    channel = i\n",
    "    frequency_band = i * 15\n",
    "    ax = fig.add_subplot(2, 3, i+1)\n",
    "    df_data_raw[\n",
    "        (df_data_raw[\"Channel\"] == channel) & \n",
    "        (df_data_raw[\"FrequencyBand\"] == frequency_band)\n",
    "    ][\"Response\"].plot(ax=ax)\n",
    "    ax.set_title(\"Ch {channel}; Freq{frequency}\".format(channel=channel, frequency=frequency_band))"
   ]
  },
  {
   "cell_type": "markdown",
   "metadata": {},
   "source": [
    "Hmmm... not really helpfull. How is about to group data by `\"Timestamp\", \"Channel\", \"FrequencyBand\"`, aka multi-index data frame."
   ]
  },
  {
   "cell_type": "code",
   "execution_count": 7,
   "metadata": {},
   "outputs": [
    {
     "data": {
      "text/html": [
       "<div>\n",
       "<style scoped>\n",
       "    .dataframe tbody tr th:only-of-type {\n",
       "        vertical-align: middle;\n",
       "    }\n",
       "\n",
       "    .dataframe tbody tr th {\n",
       "        vertical-align: top;\n",
       "    }\n",
       "\n",
       "    .dataframe thead th {\n",
       "        text-align: right;\n",
       "    }\n",
       "</style>\n",
       "<table border=\"1\" class=\"dataframe\">\n",
       "  <thead>\n",
       "    <tr style=\"text-align: right;\">\n",
       "      <th></th>\n",
       "      <th></th>\n",
       "      <th></th>\n",
       "      <th>Response</th>\n",
       "    </tr>\n",
       "    <tr>\n",
       "      <th>Timestamp</th>\n",
       "      <th>Channel</th>\n",
       "      <th>FrequencyBand</th>\n",
       "      <th></th>\n",
       "    </tr>\n",
       "  </thead>\n",
       "  <tbody>\n",
       "    <tr>\n",
       "      <th rowspan=\"5\" valign=\"top\">0</th>\n",
       "      <th rowspan=\"5\" valign=\"top\">0</th>\n",
       "      <th>0</th>\n",
       "      <td>0.0</td>\n",
       "    </tr>\n",
       "    <tr>\n",
       "      <th>1</th>\n",
       "      <td>0.0</td>\n",
       "    </tr>\n",
       "    <tr>\n",
       "      <th>2</th>\n",
       "      <td>0.0</td>\n",
       "    </tr>\n",
       "    <tr>\n",
       "      <th>3</th>\n",
       "      <td>0.0</td>\n",
       "    </tr>\n",
       "    <tr>\n",
       "      <th>4</th>\n",
       "      <td>0.0</td>\n",
       "    </tr>\n",
       "  </tbody>\n",
       "</table>\n",
       "</div>"
      ],
      "text/plain": [
       "                                 Response\n",
       "Timestamp Channel FrequencyBand          \n",
       "0         0       0                   0.0\n",
       "                  1                   0.0\n",
       "                  2                   0.0\n",
       "                  3                   0.0\n",
       "                  4                   0.0"
      ]
     },
     "execution_count": 7,
     "metadata": {},
     "output_type": "execute_result"
    }
   ],
   "source": [
    "df_data = df_data_raw.set_index([\"Timestamp\", \"Channel\", \"FrequencyBand\"])\n",
    "df_data.head()"
   ]
  },
  {
   "cell_type": "markdown",
   "metadata": {},
   "source": [
    "But wait, isn't multi-index dataframe equivalent to mutli-dimensional array. Spot on, you see right through where we are going. Convert dataframe to `Tensor`, apply tensor decomposition and visually inspect results."
   ]
  },
  {
   "cell_type": "code",
   "execution_count": 8,
   "metadata": {},
   "outputs": [
    {
     "data": {
      "text/plain": [
       "This tensor is of order 3 and consists of 1000000 elements.\n",
       "Sizes and names of its modes are (500, 10, 200) and ['Timestamp', 'Channel', 'FrequencyBand'] respectively."
      ]
     },
     "execution_count": 8,
     "metadata": {},
     "output_type": "execute_result"
    }
   ],
   "source": [
    "from hottbox.pdtools import pd_to_tensor\n",
    "\n",
    "tensor_data = pd_to_tensor(df_data, keep_index=True)\n",
    "tensor_data"
   ]
  },
  {
   "cell_type": "code",
   "execution_count": 9,
   "metadata": {},
   "outputs": [
    {
     "data": {
      "text/plain": [
       "Kruskal representation of a tensor with rank=(3,).\n",
       "Factor matrices represent properties: ['Timestamp', 'Channel', 'FrequencyBand']\n",
       "With corresponding latent components described by (500, 10, 200) features respectively."
      ]
     },
     "execution_count": 9,
     "metadata": {},
     "output_type": "execute_result"
    }
   ],
   "source": [
    "from hottbox.algorithms.decomposition import CPD\n",
    "\n",
    "cpd = CPD()\n",
    "tensor_cpd_data = cpd.decompose(tensor_data, rank=(3,), keep_meta=True)\n",
    "tensor_cpd_data"
   ]
  },
  {
   "cell_type": "code",
   "execution_count": 10,
   "metadata": {},
   "outputs": [
    {
     "data": {
      "application/vnd.jupyter.widget-view+json": {
       "model_id": "7529424f74a14f2e9d0d0c84487d3c2c",
       "version_major": 2,
       "version_minor": 0
      },
      "text/plain": [
       "VBox(children=(Output(), HBox(children=(IntSlider(value=0, continuous_update=False, max=2),)), HBox(children=(…"
      ]
     },
     "metadata": {},
     "output_type": "display_data"
    }
   ],
   "source": [
    "from hottbox.contrib.visualisation import ComponentPlotCPD\n",
    "\n",
    "p = ComponentPlotCPD(tensor_cpd_data)"
   ]
  },
  {
   "cell_type": "markdown",
   "metadata": {},
   "source": [
    "Only to types of plots... can we define custom functions to plot data. Sure, we got you coverted."
   ]
  },
  {
   "cell_type": "code",
   "execution_count": 11,
   "metadata": {},
   "outputs": [],
   "source": [
    "def my_line_plot(ax, data):\n",
    "    \"\"\"\n",
    "    ax : Axes object which is used to illustrate `data`  \n",
    "    data : selected factor vector to be plotted\n",
    "    \"\"\"    \n",
    "    ax.plot(data, 'r+')\n",
    "    \n",
    "custom_plots = {\"my line\": my_line_plot}  # key will be displayed in the dropdown menu\n",
    "p.extend_available_plots(custom_plots)    # will be available for all modes"
   ]
  },
  {
   "cell_type": "markdown",
   "metadata": {},
   "source": [
    "How is about `stem` plots for representation of frequencies??? "
   ]
  },
  {
   "cell_type": "code",
   "execution_count": 12,
   "metadata": {},
   "outputs": [],
   "source": [
    "def my_stem_plot(ax, data):\n",
    "    \"\"\"\n",
    "    ax : Axes object which is used to illustrate `data`  \n",
    "    data : selected factor vector to be plotted\n",
    "    \"\"\"    \n",
    "    ax.stem(data)\n",
    "    \n",
    "custom_plots = {\"my stem\": my_stem_plot}              # key will be displayed in the dropdown menu\n",
    "p.extend_available_plots(custom_plots, modes=[2])     # will be available for mode associated with frequency"
   ]
  },
  {
   "cell_type": "markdown",
   "metadata": {},
   "source": [
    "Nice, but what if I want to use some other library, not `matplotlib`. Sure, no problem, as long as it can be integrated into the universe of `matplotlib`, i.e based on the use of `Axes`."
   ]
  },
  {
   "cell_type": "code",
   "execution_count": 13,
   "metadata": {},
   "outputs": [],
   "source": [
    "import mne  # `hottbox` does not depend on this package\n",
    "\n",
    "def my_topo_plot(ax, data):\n",
    "    \"\"\"\n",
    "    ax : Axes object which is used to illustrate `data`  \n",
    "    data : selected factor vector to be plotted\n",
    "    \"\"\"\n",
    "    ch_names = ['Cz', 'Oz', 'T7', 'FT9', 'T8', 'FT10', 'M1', 'M2']\n",
    "    info = mne.create_info(ch_names=ch_names, sfreq=1200, ch_types='eeg', verbose=False)\n",
    "    montage = mne.channels.read_montage(\"standard_1020\")\n",
    "    temp = data.reshape(-1, 1)\n",
    "    temp = temp [:8,:]\n",
    "    \n",
    "    \n",
    "    raw = mne.io.RawArray(temp, info, verbose=False)\n",
    "    raw.set_montage(montage)\n",
    "    raw.set_eeg_reference(\"average\", projection=False)\n",
    "    temp = data[:8]\n",
    "        \n",
    "    im = mne.viz.plot_topomap(temp,\n",
    "                              raw.info,\n",
    "                              names=ch_names,\n",
    "                              axes=ax,\n",
    "                              show_names=False,\n",
    "                              cmap='RdBu_r',\n",
    "                              sensors='k.',\n",
    "                              outlines='head',\n",
    "                              show=False\n",
    "                        )\n",
    "    \n",
    "custom_plots = {\"my topo\": my_topo_plot}  # key will be displayed in the dropdown menu\n",
    "p.extend_available_plots(custom_plots, modes=[1]) # will be available only for the channel mode"
   ]
  },
  {
   "cell_type": "markdown",
   "metadata": {},
   "source": [
    "Something is still off... Ahhh, figure titles? Of course, now we plot components of Kruskal representation of a multi-dimensional array, where each factor vector/matrix has slightly different meaning to what we started from."
   ]
  },
  {
   "cell_type": "code",
   "execution_count": 14,
   "metadata": {},
   "outputs": [
    {
     "data": {
      "text/plain": [
       "Kruskal representation of a tensor with rank=(3,).\n",
       "Factor matrices represent properties: ['Evolution in Time', 'Distribution across channels', 'Frequency response']\n",
       "With corresponding latent components described by (500, 10, 200) features respectively."
      ]
     },
     "execution_count": 14,
     "metadata": {},
     "output_type": "execute_result"
    }
   ],
   "source": [
    "new_mode_names = {\n",
    "    0: \"Evolution in Time\",\n",
    "    1: \"Distribution across channels\",\n",
    "    2: \"Frequency response\"\n",
    "}\n",
    "\n",
    "tensor_cpd_data.set_mode_names(new_mode_names)"
   ]
  },
  {
   "cell_type": "markdown",
   "metadata": {},
   "source": [
    "Fantastic) Shall we try to represent original, raw data through different tensor decomposition? What the heck, why not)"
   ]
  },
  {
   "cell_type": "code",
   "execution_count": 15,
   "metadata": {},
   "outputs": [
    {
     "data": {
      "text/plain": [
       "Tucker representation of a tensor with multi-linear rank=(5, 7, 10).\n",
       "Factor matrices represent properties: ['Timestamp', 'Channel', 'FrequencyBand']\n",
       "With corresponding latent components described by (500, 10, 200) features respectively."
      ]
     },
     "execution_count": 15,
     "metadata": {},
     "output_type": "execute_result"
    }
   ],
   "source": [
    "from hottbox.algorithms.decomposition import HOSVD\n",
    "\n",
    "hosvd = HOSVD()\n",
    "tensor_tkd_data = hosvd.decompose(tensor_data, rank=(5,7,10), keep_meta=True)\n",
    "tensor_tkd_data"
   ]
  },
  {
   "cell_type": "code",
   "execution_count": 16,
   "metadata": {},
   "outputs": [
    {
     "data": {
      "application/vnd.jupyter.widget-view+json": {
       "model_id": "eafcceb31c08427c96416e69c7eb1e3e",
       "version_major": 2,
       "version_minor": 0
      },
      "text/plain": [
       "VBox(children=(Output(), HBox(children=(IntSlider(value=0, continuous_update=False, max=4), IntSlider(value=0,…"
      ]
     },
     "metadata": {},
     "output_type": "display_data"
    }
   ],
   "source": [
    "from hottbox.contrib.visualisation import ComponentPlotTKD\n",
    "\n",
    "p2 = ComponentPlotTKD(tensor_tkd_data)"
   ]
  },
  {
   "cell_type": "code",
   "execution_count": 17,
   "metadata": {},
   "outputs": [],
   "source": [
    "custom_plots = {\"my line\": my_line_plot}  # key will be displayed in the dropdown menu\n",
    "p2.extend_available_plots(custom_plots)  # will be available for all modes"
   ]
  },
  {
   "cell_type": "code",
   "execution_count": 18,
   "metadata": {},
   "outputs": [],
   "source": [
    "custom_plots = {\"my stem\": my_stem_plot}  # key will be displayed in the dropdown menu\n",
    "p2.extend_available_plots(custom_plots, modes=[2])  # will be available for frequency mode"
   ]
  },
  {
   "cell_type": "code",
   "execution_count": 19,
   "metadata": {},
   "outputs": [],
   "source": [
    "custom_plots = {\"my topo\": my_topo_plot}  # key will be displayed in the dropdown menu\n",
    "p2.extend_available_plots(custom_plots, modes=[1]) # will be available only for the channel mode"
   ]
  }
 ],
 "metadata": {
  "kernelspec": {
   "display_name": "ijcnn-2019",
   "language": "python",
   "name": "ijcnn-2019"
  },
  "language_info": {
   "codemirror_mode": {
    "name": "ipython",
    "version": 3
   },
   "file_extension": ".py",
   "mimetype": "text/x-python",
   "name": "python",
   "nbconvert_exporter": "python",
   "pygments_lexer": "ipython3",
   "version": "3.6.5"
  },
  "toc-autonumbering": false,
  "toc-showcode": false,
  "toc-showmarkdowntxt": false,
  "toc-showtags": false
 },
 "nbformat": 4,
 "nbformat_minor": 2
}
