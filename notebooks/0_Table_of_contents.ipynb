{
 "cells": [
  {
   "cell_type": "markdown",
   "metadata": {
    "toc-hr-collapsed": false
   },
   "source": [
    "# Table of Contents\n",
    "\n",
    "\n",
    "### [Tutorial 1: Core components of HOTTBOX](./1_Core_components.ipynb)\n",
    "\n",
    "### [Tutorial 2: Initial steps towards interactive visualisation](./2_Towards_interactive_visualistions.ipynb)\n",
    "\n",
    "### [Tutorial 3: Application of Tensor decompositions](./3_Applications_of_tensor_decompositions.ipynb)\n"
   ]
  }
 ],
 "metadata": {
  "kernelspec": {
   "display_name": "ijcnn-2019",
   "language": "python",
   "name": "ijcnn-2019"
  },
  "language_info": {
   "codemirror_mode": {
    "name": "ipython",
    "version": 3
   },
   "file_extension": ".py",
   "mimetype": "text/x-python",
   "name": "python",
   "nbconvert_exporter": "python",
   "pygments_lexer": "ipython3",
   "version": "3.6.5"
  },
  "toc-autonumbering": false,
  "toc-showcode": true,
  "toc-showmarkdowntxt": false
 },
 "nbformat": 4,
 "nbformat_minor": 2
}
